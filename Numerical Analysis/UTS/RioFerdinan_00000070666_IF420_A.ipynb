{
 "cells": [
  {
   "attachments": {
    "image.png": {
     "image/png": "[encoded data removed]"
    }
   },
   "cell_type": "markdown",
   "metadata": {},
   "source": [
    "![image.png](attachment:image.png)\n",
    "<center>\n",
    "    <h3>UJIAN TENGAH SEMESTER GENAP TAHUN AKADEMIK 2023/2024</h3>\n",
    "    <h3>PROGRAM STUDI INFORMATIKA</h3>\n",
    "    <h3>FAKULTAS TEKNIK DAN INFORMATIKA</h3>\n",
    "    <h3>UNIVERSITAS MULTIMEDIA NUSANTARA</h3>\n",
    "</center>\n",
    "\n",
    "---"
   ]
  },
  {
   "cell_type": "markdown",
   "metadata": {},
   "source": [
    "<b>Petunjuk:</b>\n",
    "<ul>\n",
    "    <li>Gunakan file template jawaban UTS ini untuk <b>SOAL B</b></li>\n",
    "    <li>Setiap butir pertanyaan memiliki bobot penilaiannya masing-masing</li>\n",
    "    <li>Usahakan untuk mengerjakan setiap butir pertanyaan sesuai dengan perintah yang diberikan dan di tempat yang disediakan</li>\n",
    "    <li>Tulis nama dan NIM Anda di dalam blok <i>cell</i> di bawah ini! Tampilkan dengan perintah <i>print</i>!</li>\n",
    "</ul>"
   ]
  },
  {
   "cell_type": "code",
   "execution_count": 11,
   "metadata": {},
   "outputs": [
    {
     "name": "stdout",
     "output_type": "stream",
     "text": [
      "Nama:\n",
      "  Rio Ferdinan\n",
      "NIM:\n",
      "  00000070666\n"
     ]
    }
   ],
   "source": [
    "# input nama dan nim Anda di sini\n",
    "nama = 'Rio Ferdinan'\n",
    "nim = '00000070666'\n",
    "print(f'Nama:\\n  {nama}')\n",
    "print(f'NIM:\\n  {nim}')"
   ]
  },
  {
   "cell_type": "markdown",
   "metadata": {},
   "source": [
    "<u><h3>SOAL 1 (Total Bobot: 20%)</h3></u>\n",
    "Gunakan metode Gauss-Seidel (metode iterative) untuk mendapatkan solusi dari sistem persamaan linear berikut dengan nilai threshold $𝜖=0.0001$:<br>\n",
    "$ 3𝑥_1+𝑥_2−2𝑥_3=2 $<br>\n",
    "$ −2𝑥_1−9𝑥_2-7𝑥_3=5 $<br>\n",
    "$ 𝑥_1+𝑥_2+7x_3=−3 $<br>\n",
    "Jangan lupa untuk mengecek kondisi kekonvergenan terlebih dahulu dengan melihat apakah matriks dominan secara diagonal atau tidak?"
   ]
  },
  {
   "cell_type": "code",
   "execution_count": 15,
   "metadata": {},
   "outputs": [
    {
     "name": "stdout",
     "output_type": "stream",
     "text": [
      "Matrix is diagonally dominant\n"
     ]
    }
   ],
   "source": [
    "# check convergence condition - diagonally dominance (Bobot maks: 5%)\n",
    "\n",
    "# import seluruh libraries yang dibutuhkan\n",
    "import numpy as np\n",
    "\n",
    "# INPUT THE MATRIX\n",
    "a = [[3, 1, -2],[-2, -9, -7], [1, 1, 7]]\n",
    "\n",
    "# Find diagonal coefficients\n",
    "diag = np.diag(np.abs(a))\n",
    "\n",
    "# Find row sum without diagonal\n",
    "no_diag_sum = np.sum(np.abs(a), axis=1) - diag\n",
    "\n",
    "# check the condition\n",
    "if np.all(2*diag >= no_diag_sum):\n",
    "    print('Matrix is diagonally dominant')\n",
    "else:\n",
    "    print('Matrix is NOT diagonally dominant')\n",
    "\n"
   ]
  },
  {
   "cell_type": "code",
   "execution_count": 14,
   "metadata": {},
   "outputs": [
    {
     "name": "stdout",
     "output_type": "stream",
     "text": [
      "k,   x1,   x2,   x3 \n",
      "1 , 0.6667, -0.4074, -0.3915\n",
      "2 , 0.7919, -0.6841, -0.4132\n",
      "3 , 0.7141, -0.7182, -0.4292\n",
      "4 , 0.7134, -0.7308, -0.4311\n",
      "5 , 0.7104, -0.7330, -0.4318\n",
      "6 , 0.7102, -0.7336, -0.4319\n",
      "7 , 0.7101, -0.7337, -0.4319\n",
      "8 , 0.7101, -0.7337, -0.4320\n",
      "Converged\n"
     ]
    }
   ],
   "source": [
    "# Gauss-Seidel iterative method (Bobot maks: 15%)\n",
    "\n",
    "# inisialisasi data awal\n",
    "import numpy as np\n",
    "x1 = 0\n",
    "x2 = 0\n",
    "x3 = 0\n",
    "epsilon = 0.0001\n",
    "converge = False\n",
    "x_old = np.array([x1, x2, x3])\n",
    "\n",
    "# metode Gauss-Seidel\n",
    "print(\"k,   x1,   x2,   x3 \")\n",
    "for k in range(1,50):\n",
    "    x1 = (2 + x2 - 2*x3) / 3\n",
    "    x2 = (5 - 2*x1 - 7*x3) / -9\n",
    "    x3 = (-3 + x1 + x2) / 7\n",
    "    x = np.array([x1, x2, x3])\n",
    "    dx = np.sqrt(np.dot(x-x_old, x-x_old))\n",
    "\n",
    "    print(\"%d , %.4f, %.4f, %.4f\"%(k,x1,x2,x3))\n",
    "    if dx < epsilon:\n",
    "        converge = True \n",
    "        print(\"Converged\")\n",
    "        break\n",
    "    x_old = x\n",
    "\n",
    "if not converge:\n",
    "    print('Not converged, increase iterations')\n"
   ]
  },
  {
   "cell_type": "markdown",
   "metadata": {},
   "source": [
    "<u><h3>SOAL 2 (Total Bobot: 20%)</h3></u>\n",
    "<h3>Soal 2 A (Bobot: 10%)</h3>\n",
    "Carilah nilai eigen dan vektor eigen untuk matrix\n",
    "$$\\begin{bmatrix} 1 & 2 & 1 \\\\ 1 & 3 & 2 \\\\ 1 & 4 & 2 \\end{bmatrix}$$\n",
    "dengan menggunakan Power method. Anda bisa mencoba dengan vektor awal [1, 0, 0] dan 10 kali iterasi."
   ]
  },
  {
   "cell_type": "code",
   "execution_count": 12,
   "metadata": {},
   "outputs": [
    {
     "name": "stdout",
     "output_type": "stream",
     "text": [
      "Eigenvalue:  5.97196076888784\n",
      "Eigenvector:  [0.54568746 0.85656833 1.        ]\n"
     ]
    }
   ],
   "source": [
    "# Finding max Eigenvalue and Eigenvector (Bobot maks: 10%)\n",
    "\n",
    "# define a normalize function\n",
    "def normalize(x):\n",
    "    fac = abs(x).max()\n",
    "    x_n = x / x.max()\n",
    "    return fac, x_n\n",
    "    \n",
    "# inisialisasi data awal\n",
    "import numpy as np\n",
    "a = np.array([[1, 2, 1], [1, 3, 2], [1, 4, 2]])\n",
    "v = np.array([1, 0, 0])\n",
    "\n",
    "# eigenvalue dan eigenvector\n",
    "for i in range(10):\n",
    "    v = np.dot(a, v)\n",
    "    lambda_1, v = normalize(v)\n",
    "\n",
    "print(\"Eigenvalue: \", lambda_1)\n",
    "print(\"Eigenvector: \", v)"
   ]
  },
  {
   "cell_type": "markdown",
   "metadata": {},
   "source": [
    "<h3>Soal 2 B (Bobot: 10%)</h3>\n",
    "Carilah seluruh nilai eigen dan vektor eigen untuk permasalahan di Soal 2 A dengan menggunakan <i>built-in function</i> <b>eig</b> dari numpy.linalg!"
   ]
  },
  {
   "cell_type": "code",
   "execution_count": 13,
   "metadata": {},
   "outputs": [
    {
     "name": "stdout",
     "output_type": "stream",
     "text": [
      "Nilai eigen:  [ 5.97196077  0.42346527 -0.39542603]\n",
      "Vektor eigen:  [[-0.38285759 -0.93567397  0.18171141]\n",
      " [-0.60097347  0.10061581 -0.53826044]\n",
      " [-0.70160599  0.33821692  0.82295605]]\n"
     ]
    }
   ],
   "source": [
    "# Finding all eigenvalues and eigenvectors using built-in function eig (Bobot maks: 10%)\n",
    "# import seluruh libraries yang dibutuhkan\n",
    "import numpy as np\n",
    "\n",
    "# tampilkan seluruh eigenvalues dan eigenvectors dengan fungsi 'eig'\n",
    "lambda_1, v = np.linalg.eig(a)\n",
    "\n",
    "print(\"Nilai eigen: \", lambda_1)\n",
    "print(\"Vektor eigen: \", v)\n"
   ]
  },
  {
   "cell_type": "markdown",
   "metadata": {},
   "source": [
    "<u><h3>SOAL 3 (Total Bobot: 20%)</h3></u>\n",
    "Misal diberikan data buatan yang diperoleh dengan formulasi $ 𝑥=𝑛𝑝.𝑙𝑖𝑛𝑠𝑝𝑎𝑐𝑒(0, 1, 101) $ dan $ 𝑦=15*𝑥+𝑛𝑝.𝑟𝑎𝑛𝑑𝑜𝑚.𝑟𝑎𝑛𝑑𝑜𝑚(𝑙𝑒𝑛(𝑥)) $.<br>\n",
    "Gunakan metode Least Squares Regression (LSR) dengan fungsi estimasi yang didefinisikan sebagai $ 𝑦 ̂=𝛼_1 𝑥+ 𝛼_2 $.<br>\n",
    "Bandingkan hasilnya dengan metode <b>Pseudo-inverse</b> dan <i>built-in function</i> <b>lstsq</b> dari numpy.<br>\n",
    "Plot titik-titik data yang dihasilkan dari formulasi tersebut bersama dengan hasil pendekatan LSR-nya."
   ]
  },
  {
   "cell_type": "code",
   "execution_count": 11,
   "metadata": {},
   "outputs": [
    {
     "name": "stdout",
     "output_type": "stream",
     "text": [
      "Alpha direct:  [[14.99687595]\n",
      " [ 0.45059535]]\n",
      "Pseudo Inverse :  [[14.99687595]\n",
      " [ 0.45059535]]\n",
      "Built-in :  [[14.99687595]\n",
      " [ 0.45059535]]\n"
     ]
    }
   ],
   "source": [
    "import numpy as np\n",
    "\n",
    "# bangun titik-titik data x dan y (Bobot: 2%)\n",
    "x = np.linspace(0, 1, 101)\n",
    "y = 15 * x + np.random.rand(len(x))\n",
    "\n",
    "# bangun matrix A dan ubah y menjadi vektor kolom (Bobot: 2%)\n",
    "A = np.vstack([x, np.ones(len(x))]).T\n",
    "y = y[:, np.newaxis]\n",
    "\n",
    "# Direct Least Square Regression (Bobot: 5%)\n",
    "alphaDirect = np.dot(np.dot(np.linalg.inv(np.dot(A.T, A)), A.T), y)\n",
    "print(\"Alpha direct: \", alphaDirect)\n",
    "\n",
    "# Pseudo-inverse method (Bobot: 3%)\n",
    "pinv = np.linalg.pinv(A)\n",
    "alphaPseudo = pinv.dot(y)\n",
    "print(\"Pseudo Inverse : \", alphaPseudo)\n",
    "\n",
    "# Built-in lstsq dari numpy (Bobot: 3%)\n",
    "alpha_lstsq = np.linalg.lstsq(A, y, rcond=None)[0]\n",
    "print(\"Built-in : \", alpha_lstsq)\n"
   ]
  },
  {
   "cell_type": "code",
   "execution_count": 7,
   "metadata": {},
   "outputs": [
    {
     "data": {
      "image/png": "[encoded data removed]",
      "text/plain": [
       "<Figure size 640x480 with 1 Axes>"
      ]
     },
     "metadata": {},
     "output_type": "display_data"
    }
   ],
   "source": [
    "# Plot hasil (Bobot maks: 5%)\n",
    "\n",
    "# import seluruh libraries yang dibutuhkan\n",
    "import numpy as np\n",
    "import matplotlib.pyplot as plt\n",
    "\n",
    "# sajikan plot hasil\n",
    "x = np.linspace(0, 1, 101)\n",
    "y = 15 * x + np.random.rand(len(x))\n",
    "A = np.vstack([x, np.ones(len(x))]).T\n",
    "y = y[:, np.newaxis]\n",
    "alphaDirect = np.dot(np.dot(np.linalg.inv(np.dot(A.T, A)), A.T), y)\n",
    "\n",
    "plt.scatter(x, y, label='Data')\n",
    "\n",
    "y_pred_direct = A @ alphaDirect\n",
    "plt.plot(x, y_pred_direct, label='Direct LSR')\n",
    "\n",
    "plt.xlabel('x')\n",
    "plt.ylabel('y')\n",
    "plt.title('Least Squares Regression')\n",
    "plt.legend()\n",
    "plt.show()"
   ]
  },
  {
   "cell_type": "markdown",
   "metadata": {},
   "source": [
    "<u><h3>SOAL 4 (Total Bobot: 20%)</h3></u>\n",
    "<h3>Soal 4 A (Bobot: 10%)</h3>\n",
    "Buat sebuah definisi fungsi <b>my_lagrange(x, y, X)</b> dimana output Y adalah hasil interpolasi Lagrange dari titik-titik data yang ada di x dan y yang dihitung terhadap data-data di X.<br>\n",
    "Petunjuk: Gunakan <i>nested for-loop</i>, dimana <i>inner for-loop</i> digunakan untuk menghitung hasil kali dari Lagrange basis polynomial dan <i>outer for-loop</i> digunakan untuk menghitung jumlahan dari Lagrange polynomial. Jangan menggunakan fungsi lagrange yang tersedia di scipy."
   ]
  },
  {
   "cell_type": "code",
   "execution_count": 10,
   "metadata": {},
   "outputs": [],
   "source": [
    "# my_lagrange function (Bobot maks: 10%)\n",
    "\n",
    "# definisi fungsi my_lagrange(x,y,X)\n",
    "def my_lagrange(x, y, X):\n",
    "    n = len(x)\n",
    "    m = len(X)\n",
    "    Y = np.zeros(m)\n",
    "    \n",
    "    for j in range(m):\n",
    "        for i in range(n): # Outer for-loop\n",
    "            L = 1\n",
    "            for k in range(n): # Inner for-loop\n",
    "                if k != i:\n",
    "                    L *= (X[j]-x[k])/(x[i]-x[k])\n",
    "            Y[j] += L*y[i]\n",
    "    \n",
    "    return Y\n"
   ]
  },
  {
   "cell_type": "markdown",
   "metadata": {},
   "source": [
    "<h3>Soal 4 B (Bobot: 10%)</h3>\n",
    "Dengan menggunakan fungsi yang telah didefinisikan pada Soal 4 A dan titik-titik data dummy yang didefinisikan sebagai berikut<br>\n",
    "$ x = [0, 2, 4, 6, 8] $<br>\n",
    "$ y = [3, 8, 4, 0, 2] $<br>\n",
    "X adalah nilai-nilai di sumbu X mulai dari titik awal x hingga titik akhir x yang dibagi menjadi 100 bagian sama panjang<br>\n",
    "Sajikan plot tiap titik data dan interpolasi Lagrange yang dihasilkan!"
   ]
  },
  {
   "cell_type": "code",
   "execution_count": 9,
   "metadata": {},
   "outputs": [
    {
     "data": {
      "image/png": "[encoded data removed]",
      "text/plain": [
       "<Figure size 640x480 with 1 Axes>"
      ]
     },
     "metadata": {},
     "output_type": "display_data"
    }
   ],
   "source": [
    "import numpy as np\n",
    "import matplotlib.pyplot as plt\n",
    "\n",
    "def my_lagrange(x, y, X):\n",
    "    n = len(x)\n",
    "    m = len(X)\n",
    "    Y = np.zeros(m)\n",
    "    \n",
    "    for j in range(m):\n",
    "        for i in range(n):\n",
    "            L = 1\n",
    "            for k in range(n):\n",
    "                if k != i:\n",
    "                    L *= (X[j]-x[k])/(x[i]-x[k])\n",
    "            Y[j] += L*y[i]\n",
    "    \n",
    "    return Y\n",
    "\n",
    "# bangun titik-titik data x, y, dan X (Bobot: 5%)\n",
    "x = [0,2,4,6,8]\n",
    "y = [3,8,4,0,2]\n",
    "X = np.linspace(x[0], x[-1], 100)\n",
    "\n",
    "# Plot hasil (Bobot maks: 5%)\n",
    "Y = my_lagrange(x,y,X)\n",
    "plt.scatter(x, y, label=\"Data\")\n",
    "plt.plot(X, Y, label=\"Interpolasi\")\n",
    "plt.legend()\n",
    "plt.show()"
   ]
  },
  {
   "cell_type": "code",
   "execution_count": null,
   "metadata": {},
   "outputs": [],
   "source": []
  }
 ],
 "metadata": {
  "kernelspec": {
   "display_name": "Python 3",
   "language": "python",
   "name": "python3"
  },
  "language_info": {
   "codemirror_mode": {
    "name": "ipython",
    "version": 3
   },
   "file_extension": ".py",
   "mimetype": "text/x-python",
   "name": "python",
   "nbconvert_exporter": "python",
   "pygments_lexer": "ipython3",
   "version": "3.11.4"
  }
 },
 "nbformat": 4,
 "nbformat_minor": 2
}
